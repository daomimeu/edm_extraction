{
 "cells": [
  {
   "cell_type": "code",
   "execution_count": 1,
   "metadata": {},
   "outputs": [],
   "source": [
    "import creative_api_pipeline_funcs as fn\n",
    "\n",
    "import pandas as pd\n",
    "import numpy as np\n",
    "\n",
    "import os\n",
    "import glob\n",
    "from PIL import Image\n",
    "\n",
    "import utils.ssl_setup as ssl"
   ]
  },
  {
   "cell_type": "code",
   "execution_count": null,
   "metadata": {},
   "outputs": [],
   "source": [
    "data_period = '2025-01-01_2025-01-08'\n",
    "\n",
    "cookie = ''\n",
    "data_backup_path = f'../data/{data_period}'\n",
    "bo_report_path = '../All Campaign Summary.csv'\n",
    "asset_id_path = '../asset_id.parquet'\n",
    "click_report_path = '../click_label_report.csv'\n",
    "\n",
    "pod_height_path = '../pod_height.parquet'\n",
    "unmatched_path = '../click_report_unmatched.parquet'\n",
    "\n",
    "html_path = '../staging/html'\n",
    "original_img_path = '../staging/img_original'\n",
    "transformed_img_path = '../staging/img_transformed'\n",
    "text_folder_path = '../staging/img_extracted_text/'\n",
    "\n",
    "link_to_tesseract = r'C:\\Users\\user\\AppData\\Local\\Programs\\Tesseract-OCR\\tesseract.exe'\n",
    "service_account_json = '../../../../docs/api_key/xxx.json'"
   ]
  },
  {
   "cell_type": "code",
   "execution_count": null,
   "metadata": {},
   "outputs": [],
   "source": [
    "fn.empty_folder(original_img_path, transformed_img_path, text_folder_path, text_folder_path)"
   ]
  },
  {
   "cell_type": "code",
   "execution_count": 6,
   "metadata": {},
   "outputs": [],
   "source": [
    "df = fn.clean_bo_report(bo_report_path)"
   ]
  },
  {
   "cell_type": "code",
   "execution_count": 8,
   "metadata": {},
   "outputs": [],
   "source": [
    "fn.get_df_assetid(df, asset_id_path, cookie)"
   ]
  },
  {
   "cell_type": "code",
   "execution_count": null,
   "metadata": {},
   "outputs": [
    {
     "name": "stdout",
     "output_type": "stream",
     "text": [
      "Fail to fetch HTML for 0000203646_SG\n",
      "https://seadigitasacct.blob.core.windows.net/public/SEPCO/SEPCO%20REGION/PARADIGM/W1/PHF1H25-PreCRM--01ENNRN--ROC----------FS/Desktop/01_paradigm_security_cta_w1-churn.jpg download failed!\n",
      "https://seadigitasacct.blob.core.windows.net/public/SEPCO/SEPCO%20REGION/PARADIGM/W1/PHF1H25-PreCRM--01ENNRN--ROC----------FS/Desktop/04_paradigm_galaxyai_cta_w1-churn.jpg download failed!\n",
      "https://seadigitasacct.blob.core.windows.net/public/SEPCO/SEPCO%20REGION/PARADIGM/W1/PHF1H25-PreCRM--01ENNRN--ROC----------FS/Desktop/05_paradigm_galaxyai_cta_w1-churn.jpg download failed!\n",
      "https://seadigitasacct.blob.core.windows.net/public/SEPCO/SEPCO%20REGION/PARADIGM/W1/PHF1H25-PreCRM--01ENNRN--ROC----------FS/Desktop/06_paradigm_galaxyai_cta_w1-churn.jpg download failed!\n",
      "https://seadigitasacct.blob.core.windows.net/public/SEPCO/SEPCO%20REGION/PARADIGM/W1/PHF1H25-Pre-CRM-01ENNRN--AIOHD--------FS/Desktop/01_paradigm_security_cta_w1-AIdevice.jpg download failed!\n",
      "https://seadigitasacct.blob.core.windows.net/public/SEPCO/SEPCO%20REGION/PARADIGM/W1/PHF1H25-Pre-CRM-01ENNRN--AIOHD--------FS/Desktop/02_paradigm_security_cta_w1-AIdevice.jpg download failed!\n",
      "https://seadigitasacct.blob.core.windows.net/public/SEPCO/SEPCO%20REGION/PARADIGM/W1/PHF1H25-Pre-CRM-01ENNRN--AIOHD--------FS/Desktop/03_paradigm_galaxyai_cta_w1-AIdevice.jpg download failed!\n",
      "https://seadigitasacct.blob.core.windows.net/public/SEPCO/SEPCO%20REGION/PARADIGM/W1/PHF1H25-Pre-CRM-01ENNRN--AIOHD--------FS/Desktop/04_paradigm_galaxyai_cta_w1-AIdevice.jpg download failed!\n",
      "https://seadigitasacct.blob.core.windows.net/public/SEPCO/SEPCO%20REGION/PARADIGM/W1/PHF1H25-Pre-CRM-01ENNRN--AIOHD--------FS/Desktop/05_paradigm_galaxyai_cta_w1-AIdevice.jpg download failed!\n",
      "https://seadigitasacct.blob.core.windows.net/public/SEPCO/SEPCO%20REGION/PARADIGM/W1/PHF1H25-PreCRM--01ENNRN--LOYAL--------FS%20/Desktop/00_paradigm_step-into_cta_w1-loyalist.jpg download failed!\n",
      "https://seadigitasacct.blob.core.windows.net/public/SEPCO/SEPCO%20REGION/PARADIGM/W1/PHF1H25-PreCRM--01ENNRN--LOYAL--------FS%20/Desktop/03_paradigm_galaxyai_cta_w1-loyalist.jpg download failed!\n",
      "https://seadigitasacct.blob.core.windows.net/public/SEPCO/SEPCO%20REGION/PARADIGM/W1/PHF1H25-PreCRM--01ENNRN--LOYAL--------FS%20/Desktop/04_paradigm_galaxyai_cta_w1-loyalist.jpg download failed!\n",
      "https://seadigitasacct.blob.core.windows.net/public/SEPCO/SEPCO%20REGION/PARADIGM/W1/PHF1H25-PreCRM--01ENNRN--LOYAL--------FS%20/Desktop/05_paradigm_galaxyai_cta_w1-loyalist.jpg download failed!\n"
     ]
    }
   ],
   "source": [
    "fn.store_df_image(asset_id_path, html_path, original_img_path, transformed_img_path, pod_height_path, cookie)"
   ]
  },
  {
   "cell_type": "code",
   "execution_count": 9,
   "metadata": {},
   "outputs": [],
   "source": [
    "df_click_report = fn.process_click_report(click_report_path, pod_height_path, unmatched_path)"
   ]
  },
  {
   "cell_type": "code",
   "execution_count": 10,
   "metadata": {},
   "outputs": [],
   "source": [
    "fn.update_bq_click_report_table(df_click_report, service_account_json)"
   ]
  },
  {
   "cell_type": "code",
   "execution_count": 3,
   "metadata": {},
   "outputs": [],
   "source": [
    "fn.extract_text(img_path = original_img_path, text_folder_path = text_folder_path, link_to_tesseract = link_to_tesseract)"
   ]
  },
  {
   "cell_type": "code",
   "execution_count": 4,
   "metadata": {},
   "outputs": [
    {
     "name": "stdout",
     "output_type": "stream",
     "text": [
      "original image files: 78\n",
      "original image files: 78\n",
      "Transformed image files: 78\n",
      "Text files: 78\n",
      "Perfect, no error.\n"
     ]
    }
   ],
   "source": [
    "transformed_img_path = '../staging/img_transformed'\n",
    "fn.qc_check(html_path, original_img_folder = original_img_path, transformed_img_folder = transformed_img_path, text_folder_path = text_folder_path)"
   ]
  },
  {
   "cell_type": "code",
   "execution_count": null,
   "metadata": {},
   "outputs": [],
   "source": [
    "# height_dict = fn.get_img_height(transformed_img_folder = transformed_img_path)"
   ]
  },
  {
   "cell_type": "code",
   "execution_count": 5,
   "metadata": {},
   "outputs": [],
   "source": [
    "fn.update_bq_campaign_asset_table(asset_id_path, service_account_json)"
   ]
  },
  {
   "cell_type": "code",
   "execution_count": 6,
   "metadata": {},
   "outputs": [],
   "source": [
    "#upload original img\n",
    "file_upload_list = glob.glob(f'{original_img_path}/*')\n",
    "\n",
    "for file in file_upload_list:\n",
    "    cid = file[-17:-7]\n",
    "    country = file[-6:-4].lower()\n",
    "    blob_name = f'{country}/{cid}.jpg'\n",
    "    \n",
    "    fn.upload_to_bucket(bucket_name='creative-edm-original', blob_name=blob_name, path_to_file=file, service_account_json=service_account_json)"
   ]
  },
  {
   "cell_type": "code",
   "execution_count": 7,
   "metadata": {},
   "outputs": [],
   "source": [
    "#upload transformed img and metadata\n",
    "file_upload_list = glob.glob(f'{transformed_img_path}/*')\n",
    "\n",
    "for file in file_upload_list:\n",
    "    cid = file[-17:-7]\n",
    "    country = file[-6:-4].lower()\n",
    "    blob_name = f'{country}/{cid}.jpg'\n",
    "\n",
    "    fn.upload_to_bucket(bucket_name = 'creative-edm', blob_name = blob_name, path_to_file = file, service_account_json=service_account_json)\n"
   ]
  },
  {
   "cell_type": "code",
   "execution_count": 8,
   "metadata": {},
   "outputs": [],
   "source": [
    "#upload extracted text\n",
    "file_upload_list = glob.glob(f'{text_folder_path}/*')\n",
    "\n",
    "for file in file_upload_list:\n",
    "    cid = file[-17:-7]\n",
    "    country = file[-6:-4].lower()\n",
    "    blob_name = f'{country}/{cid}.txt'\n",
    "\n",
    "    fn.upload_to_bucket(bucket_name='creative-edm-text', blob_name=blob_name, path_to_file=file, service_account_json=service_account_json)"
   ]
  },
  {
   "cell_type": "code",
   "execution_count": 5,
   "metadata": {},
   "outputs": [],
   "source": [
    "fn.update_bq_campaigns_table(bo_report_path, service_account_json)"
   ]
  },
  {
   "cell_type": "code",
   "execution_count": null,
   "metadata": {},
   "outputs": [],
   "source": []
  }
 ],
 "metadata": {
  "kernelspec": {
   "display_name": "base",
   "language": "python",
   "name": "python3"
  },
  "language_info": {
   "codemirror_mode": {
    "name": "ipython",
    "version": 3
   },
   "file_extension": ".py",
   "mimetype": "text/x-python",
   "name": "python",
   "nbconvert_exporter": "python",
   "pygments_lexer": "ipython3",
   "version": "3.11.7"
  }
 },
 "nbformat": 4,
 "nbformat_minor": 2
}
